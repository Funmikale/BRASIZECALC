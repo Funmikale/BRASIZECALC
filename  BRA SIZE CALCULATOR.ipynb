{
 "cells": [
  {
   "cell_type": "code",
   "execution_count": null,
   "metadata": {},
   "outputs": [],
   "source": [
    "# Bra size calculator\n",
    "Band_size = int(input('What is your Band size?\\n'))\n",
    "Bust_size = int(input('What is your bust size?\\n'))\n",
    "Band = (Band_size+3)\n",
    "if Band%2!=0:\n",
    "     Band=Band + 1\n",
    "else:\n",
    "    Band=Band\n",
    "Bust =(Bust_size-Band)\n",
    "if Bust== 0:\n",
    "    print('Your Bra size is '+str(Band)+'AA')\n",
    "elif Bust == 1:\n",
    "    print('Your Bra size is '+str(Band)+'A')\n",
    "elif Bust== 2:\n",
    "    Print('Your Bra size is '+str(Band)+'B')\n",
    "elif Bust == 3:\n",
    "    print('Your Bra size is '+str(Band)+'C')\n",
    "elif Bust == 4:\n",
    "    print('Your Bra size is '+str(Band)+'D')\n",
    "elif Bust == 5:\n",
    "    print('Your Bra size is '+str(Band)+'DD/E')\n",
    "else:\n",
    "    print('Your Bra size is '+str(Band)+'DDD/F')"
   ]
  },
  {
   "cell_type": "code",
   "execution_count": 11,
   "metadata": {},
   "outputs": [
    {
     "name": "stdout",
     "output_type": "stream",
     "text": [
      "Overwriting bra.py\n"
     ]
    }
   ],
   "source": [
    "%%writefile bra.py\n",
    "import streamlit as st \n",
    "from PIL import Image \n",
    "\n",
    "st.write(\"\"\" \n",
    "# BRA SIZE CALCULATOR!\n",
    "\"\"\")\n",
    "image=Image.open('MGGN.jpg')\n",
    "st.image(image)\n",
    "\n",
    "st.sidebar.write(\"\"\" # KNOW YOUR BRASTORY!\n",
    "Throughout the fight for women's right as early as the women's march, bras have held a poetic significance,\n",
    "                 they have been burned,hunged and swung in protest. \n",
    "                 Those actions resulted in the world we live today where women have CHOICES, the CHOICES that afford us the\n",
    "                 opportunity to decide who/what we want to be or simply to wear a bra or not, \n",
    "                 in the light of this, it is important that we spill our quota and leave an impact\n",
    "                 that will sustain our world tommorow.\n",
    "                 \n",
    "                 HAPPY INTERNATIONAL WOMEN'S DAY\n",
    "                 FEYISAYO DAISI\n",
    "                 MGGN AMBASSADOR 2021\"\"\")\n",
    "\n",
    "Band_size=st.number_input('What is your Band size?')\n",
    "\n",
    "Bust_size=st.number_input('What is your bust size?')\n",
    "\n",
    "Band = (Band_size+3)\n",
    "if Band%2!=0:\n",
    "     Band=int((Band + 1))\n",
    "else:\n",
    "    Band=int(Band)\n",
    "Bust =(Bust_size-Band)\n",
    "if Bust== 0:\n",
    "    st.write('Your Bra size is',Band,'AA')\n",
    "elif Bust == 1:\n",
    "    st.write('Your Bra size is ',Band,'A')\n",
    "elif Bust== 2:\n",
    "    st.write('Your Bra size is ',Band,'B')\n",
    "elif Bust == 3:\n",
    "    st.write('Your Bra size is ',Band,'C')\n",
    "elif Bust == 4:\n",
    "    st.write('Your Bra size is ',Band,'D')\n",
    "elif Bust == 5:\n",
    "    st.write('Your Bra size is ',Band,'DD/E')\n",
    "else:\n",
    "    st.write('Your Bra size is ',Band,'DDD/F')"
   ]
  },
  {
   "cell_type": "code",
   "execution_count": 12,
   "metadata": {},
   "outputs": [
    {
     "name": "stdout",
     "output_type": "stream",
     "text": [
      "^C\n"
     ]
    }
   ],
   "source": [
    "!streamlit run bra.py"
   ]
  },
  {
   "cell_type": "code",
   "execution_count": null,
   "metadata": {},
   "outputs": [],
   "source": []
  }
 ],
 "metadata": {
  "kernelspec": {
   "display_name": "Python 3",
   "language": "python",
   "name": "python3"
  },
  "language_info": {
   "codemirror_mode": {
    "name": "ipython",
    "version": 3
   },
   "file_extension": ".py",
   "mimetype": "text/x-python",
   "name": "python",
   "nbconvert_exporter": "python",
   "pygments_lexer": "ipython3",
   "version": "3.8.3"
  }
 },
 "nbformat": 4,
 "nbformat_minor": 4
}
